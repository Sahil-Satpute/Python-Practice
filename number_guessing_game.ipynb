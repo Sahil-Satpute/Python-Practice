{
  "nbformat": 4,
  "nbformat_minor": 0,
  "metadata": {
    "colab": {
      "provenance": [],
      "authorship_tag": "ABX9TyND+uS18+bQSBAOE6pZLJ44",
      "include_colab_link": true
    },
    "kernelspec": {
      "name": "python3",
      "display_name": "Python 3"
    },
    "language_info": {
      "name": "python"
    }
  },
  "cells": [
    {
      "cell_type": "markdown",
      "metadata": {
        "id": "view-in-github",
        "colab_type": "text"
      },
      "source": [
        "<a href=\"https://colab.research.google.com/github/Sahil-Satpute/Python-Practice/blob/main/number_guessing_game.ipynb\" target=\"_parent\"><img src=\"https://colab.research.google.com/assets/colab-badge.svg\" alt=\"Open In Colab\"/></a>"
      ]
    },
    {
      "cell_type": "code",
      "execution_count": 2,
      "metadata": {
        "colab": {
          "base_uri": "https://localhost:8080/"
        },
        "id": "X7MwNFfx6fRj",
        "outputId": "dec22fdd-30a4-4904-c43f-c850e7ceb6c0"
      },
      "outputs": [
        {
          "name": "stdout",
          "output_type": "stream",
          "text": [
            "Enter the max number17\n",
            "Guess the number between 1 to 17: 7\n",
            "Guess is too low. Guess the number again.\n",
            "Guess the number between 1 to 17: 11\n",
            "Guess is too low. Guess the number again.\n",
            "Guess the number between 1 to 17: 14\n",
            "Guess is too high. Guess the number again.\n",
            "Guess the number between 1 to 17: 13\n",
            "Ooooo, Your guess is correct!\n",
            "Do you want to play again (y/n): n\n"
          ]
        }
      ],
      "source": [
        "# This code is about random guessing game\n",
        "import random\n",
        "\n",
        "def play_game():\n",
        "    max_number = int(input(\"Enter the max number\"))\n",
        "    return game(max_number)\n",
        "\n",
        "def game(max_number):\n",
        "    random_number = random.randint(1, max_number)\n",
        "\n",
        "    def make_guess():\n",
        "        guess = int(input(f\"Guess the number between 1 to {max_number}: \"))\n",
        "        if guess < random_number:\n",
        "            print(\"Guess is too low. Guess the number again.\")\n",
        "            return make_guess()\n",
        "\n",
        "        elif guess > random_number:\n",
        "            print(\"Guess is too high. Guess the number again.\")\n",
        "            return make_guess()\n",
        "\n",
        "        elif guess == random_number:\n",
        "            print(\"Ooooo, Your guess is correct!\")\n",
        "            play_again = input(\"Do you want to play again (y/n): \")\n",
        "            if play_again == 'y':\n",
        "                return play_game()\n",
        "            else:\n",
        "                pass\n",
        "    make_guess()\n",
        "play_game()\n"
      ]
    }
  ]
}