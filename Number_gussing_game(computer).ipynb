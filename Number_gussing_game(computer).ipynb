{
  "nbformat": 4,
  "nbformat_minor": 0,
  "metadata": {
    "colab": {
      "provenance": [],
      "authorship_tag": "ABX9TyPt7p3J4eUY345bm923FypD",
      "include_colab_link": true
    },
    "kernelspec": {
      "name": "python3",
      "display_name": "Python 3"
    },
    "language_info": {
      "name": "python"
    }
  },
  "cells": [
    {
      "cell_type": "markdown",
      "metadata": {
        "id": "view-in-github",
        "colab_type": "text"
      },
      "source": [
        "<a href=\"https://colab.research.google.com/github/Sahil-Satpute/Python-Practice/blob/main/Number_gussing_game(computer).ipynb\" target=\"_parent\"><img src=\"https://colab.research.google.com/assets/colab-badge.svg\" alt=\"Open In Colab\"/></a>"
      ]
    },
    {
      "cell_type": "code",
      "execution_count": 2,
      "metadata": {
        "colab": {
          "base_uri": "https://localhost:8080/"
        },
        "id": "zemBMqllQb-k",
        "outputId": "6c64a0d8-13d0-4f6e-f36c-70c9e0c74be0"
      },
      "outputs": [
        {
          "output_type": "stream",
          "name": "stdout",
          "text": [
            "Rulse :-For the correct gussing (c),For the too high gussing (h),For the low gussing (l)\n",
            "computer Guss:7\n",
            "c/h/l:h\n",
            "computer Guss:5\n",
            "c/h/l:c\n",
            "yea compute find it \n"
          ]
        }
      ],
      "source": [
        "# This code is about random guessing game\n",
        "import random\n",
        "\n",
        "def play_game():\n",
        "    max_number = int(input(\"Enter the max number\"))\n",
        "    return game(max_number)\n",
        "\n",
        "def game(max_number):\n",
        "    random_number = random.randint(1, max_number)\n",
        "\n",
        "    def make_guess():\n",
        "        guess = int(input(f\"Guess the number between 1 to {max_number}: \"))\n",
        "        if guess < random_number:\n",
        "            print(\"Guess is too low. Guess the number again.\")\n",
        "            return make_guess()\n",
        "\n",
        "        elif guess > random_number:\n",
        "            print(\"Guess is too high. Guess the number again.\")\n",
        "            return make_guess()\n",
        "\n",
        "        elif guess == random_number:\n",
        "            print(\"Ooooo, Your guess is correct!\")\n",
        "            play_again = input(\"Do you want to play again (y/n): \")\n",
        "            if play_again == 'y':\n",
        "                return play_game()\n",
        "            else:\n",
        "                pass\n",
        "    make_guess()\n",
        "# play_game()\n",
        "def main(high,low):\n",
        "\n",
        "\tguss = random.randint(low,high)\n",
        "\tprint(f\"computer Guss:{guss}\")\n",
        "\tchoise=input(\"c/h/l:\")\n",
        "\tif choise == 'c':\n",
        "\t\tprint(\"yea compute find it \")\n",
        "\t\tpass\n",
        "\telif choise == 'l':\n",
        "\t\tlow = guss + 1\n",
        "\t\tmain(high,low)\n",
        "\telif choise == 'h':\n",
        "\t\thigh = guss -1\n",
        "\t\tmain(high,low)\n",
        "\n",
        "\n",
        "def computer_guess(x):\n",
        "    low = 1\n",
        "    high = x\n",
        "    print(\"Rulse :-For the correct gussing (c),For the too high gussing (h),For the low gussing (l)\")\n",
        "    return main(high,low)\n",
        "computer_guess(10)\n",
        "\n",
        "\n",
        "\n",
        "\n",
        "\n",
        "\n"
      ]
    }
  ]
}