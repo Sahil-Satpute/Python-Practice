{
  "nbformat": 4,
  "nbformat_minor": 0,
  "metadata": {
    "colab": {
      "provenance": [],
      "authorship_tag": "ABX9TyOX66YxA6+PJMXJ503l1Ipr",
      "include_colab_link": true
    },
    "kernelspec": {
      "name": "python3",
      "display_name": "Python 3"
    },
    "language_info": {
      "name": "python"
    }
  },
  "cells": [
    {
      "cell_type": "markdown",
      "metadata": {
        "id": "view-in-github",
        "colab_type": "text"
      },
      "source": [
        "<a href=\"https://colab.research.google.com/github/Sahil-Satpute/Python-Practice/blob/main/Basic%20calculator%20%7BDay%201%7D.ipynb\" target=\"_parent\"><img src=\"https://colab.research.google.com/assets/colab-badge.svg\" alt=\"Open In Colab\"/></a>"
      ]
    },
    {
      "cell_type": "code",
      "execution_count": null,
      "metadata": {
        "colab": {
          "base_uri": "https://localhost:8080/"
        },
        "id": "FqVUTAaV3MCM",
        "outputId": "77659ff3-c66a-4c0e-cd23-ce20245ca7cc"
      },
      "outputs": [
        {
          "output_type": "stream",
          "name": "stdout",
          "text": [
            "Enter the 1st number for basic calculation: 1\n",
            "Enter the 2nd number for basic calculation: 2\n",
            "Enter the operator (+,-,*,/): 6\n",
            "invalid Oprator\n",
            "You wnat to reuse the calculator (For Yes ='y')y\n",
            "Enter the 1st number for basic calculation: 2\n",
            "Enter the 2nd number for basic calculation: 0\n",
            "Enter the operator (+,-,*,/): /\n",
            "Invalid number\n",
            "You wnat to reuse the calculator (For Yes ='y')n\n",
            "Thank you for using my clculater 🙏😊\n"
          ]
        }
      ],
      "source": [
        "#basic calculater using Pythone\n",
        "#1st Programe\n",
        "def calculater():\n",
        "  #input from user\n",
        "  num = int(input(\"Enter the 1st number for basic calculation: \"))\n",
        "  num2 = int(input(\"Enter the 2nd number for basic calculation: \"))\n",
        "  ope = (input(\"Enter the operator (+,-,*,/): \"))\n",
        "  #Main opration\n",
        "  if ope == '+':\n",
        "    print(\"result = \",num+num2)\n",
        "  elif ope =='-':\n",
        "    print(\"result = \",num-num2)\n",
        "  elif ope =='*':\n",
        "    print(\"result = \",num*num2)\n",
        "  elif ope =='/':\n",
        "    if num2 == 0:\n",
        "      print(\"Invalid number\")\n",
        "    else:\n",
        "      print(\"result = \",num/num2)\n",
        "  else :\n",
        "    print(\"invalid Oprator\")\n",
        "\n",
        "  #agin reusing\n",
        "  again = input(\"You wnat to reuse the calculator (For Yes ='y')\")\n",
        "  if again == 'y':\n",
        "    calculater()\n",
        "  else:\n",
        "    print(\"Thank you for using my clculater 🙏😊\")\n",
        "\n",
        "calculater()\n"
      ]
    }
  ]
}