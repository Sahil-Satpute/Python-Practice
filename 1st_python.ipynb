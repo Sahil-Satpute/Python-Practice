{
  "nbformat": 4,
  "nbformat_minor": 0,
  "metadata": {
    "colab": {
      "provenance": [],
      "authorship_tag": "ABX9TyPZM9UpuTbF6eO8pfI8rGaH",
      "include_colab_link": true
    },
    "kernelspec": {
      "name": "python3",
      "display_name": "Python 3"
    },
    "language_info": {
      "name": "python"
    }
  },
  "cells": [
    {
      "cell_type": "markdown",
      "metadata": {
        "id": "view-in-github",
        "colab_type": "text"
      },
      "source": [
        "<a href=\"https://colab.research.google.com/github/Sahil-Satpute/Python-Practice/blob/main/1st_python.ipynb\" target=\"_parent\"><img src=\"https://colab.research.google.com/assets/colab-badge.svg\" alt=\"Open In Colab\"/></a>"
      ]
    },
    {
      "cell_type": "code",
      "execution_count": 1,
      "metadata": {
        "colab": {
          "base_uri": "https://localhost:8080/"
        },
        "id": "dfYr6vGOwIUP",
        "outputId": "3d2ef440-0f98-43e9-9b52-d6174441b09a"
      },
      "outputs": [
        {
          "output_type": "stream",
          "name": "stdout",
          "text": [
            "sahil\n",
            "Hello, san!\n",
            "Your are not eligible for vote\n",
            "apple\n",
            "mango\n",
            "Banana\n",
            "0\n",
            "1\n",
            "2\n",
            "3\n",
            "4\n",
            "5\n",
            "the sum is 30 this is correct\n"
          ]
        }
      ],
      "source": [
        "print(\"sahil\")\n",
        "a = 10\n",
        "b = \"Sahil\"\n",
        "pi = 3.14\n",
        "i = 0\n",
        "def func(name):\n",
        "    print(f\"Hello, {name}!\")\n",
        "\n",
        "func(\"san\")\n",
        "student = True\n",
        "fruits = [\"apple\",\"mango\",\"Banana\"]\n",
        "person = {\"Name\":\"sahil\",\"age\":25}\n",
        "age = 16\n",
        "if age >= 18:\n",
        "    print(\"Tou are eligible for Vote\")\n",
        "else:\n",
        "    print(\"Your are not eligible for vote\")\n",
        "for friut in [\"apple\",\"mango\",\"Banana\"]:\n",
        "    print(friut)\n",
        "while i <= 5:\n",
        "    print(i)\n",
        "    i += 1\n",
        "def add(a,b):\n",
        "    print(\"the sum is\",a+b,\"this is correct\")\n",
        "z=10\n",
        "y=20\n",
        "add(z,y)\n",
        "\n",
        ""
      ]
    },
    {
      "cell_type": "code",
      "source": [
        "a = 10\n",
        "print(a)\n",
        "for i in range(1,11):\n",
        "  print(i)"
      ],
      "metadata": {
        "colab": {
          "base_uri": "https://localhost:8080/"
        },
        "id": "e9fnzdKKzSTI",
        "outputId": "ee6efe84-3cc5-44af-acde-6d84f123e129"
      },
      "execution_count": 8,
      "outputs": [
        {
          "output_type": "stream",
          "name": "stdout",
          "text": [
            "10\n",
            "1\n",
            "2\n",
            "3\n",
            "4\n",
            "5\n",
            "6\n",
            "7\n",
            "8\n",
            "9\n"
          ]
        }
      ]
    },
    {
      "cell_type": "code",
      "source": [],
      "metadata": {
        "id": "pouJhoi2wQen"
      },
      "execution_count": null,
      "outputs": []
    }
  ]
}